{
 "cells": [
  {
   "cell_type": "markdown",
   "metadata": {},
   "source": [
    "# Automação Web e Busca de Informações com Python\n",
    "\n",
    "#### Desafio: \n",
    "\n",
    "Trabalhamos em uma importadora e o preço dos nossos produtos é vinculado a cotação de:\n",
    "- Dólar\n",
    "- Euro\n",
    "- Ouro\n",
    "\n",
    "Precisamos pegar na internet, de forma automática, a cotação desses 3 itens e saber quanto devemos cobrar pelos nossos produtos, considerando uma margem de contribuição que temos na nossa base de dados.\n",
    "\n",
    "Base de Dados: https://drive.google.com/drive/folders/1KmAdo593nD8J9QBaZxPOG1yxHZua4Rtv?usp=sharing\n",
    "\n",
    "Para isso, vamos criar uma automação web:\n",
    "\n",
    "- Usaremos o selenium\n",
    "- Importante: baixar o webdriver"
   ]
  },
  {
   "cell_type": "code",
   "execution_count": 35,
   "metadata": {},
   "outputs": [
    {
     "name": "stdout",
     "output_type": "stream",
     "text": [
      "Requirement already satisfied: selenium in c:\\users\\uchoa\\anaconda3\\lib\\site-packages (3.141.0)\n",
      "Requirement already satisfied: urllib3 in c:\\users\\uchoa\\anaconda3\\lib\\site-packages (from selenium) (1.26.4)\n"
     ]
    }
   ],
   "source": [
    "#instalando o selenium\n",
    "!pip install selenium"
   ]
  },
  {
   "cell_type": "code",
   "execution_count": 36,
   "metadata": {},
   "outputs": [],
   "source": [
    "#baixar o webdriver\n",
    "#chrome - > chromedriver\n",
    "#firefox - > "
   ]
  },
  {
   "cell_type": "code",
   "execution_count": 37,
   "metadata": {},
   "outputs": [],
   "source": [
    "#importando webdriver\n",
    "from selenium import webdriver\n",
    "from selenium.webdriver.common.keys import Keys\n",
    "navegador = webdriver.Chrome(\"chromedriver.exe\") \n",
    "#passo 1 - pegar a cotação do dolar \n",
    "    #entrar no google\n",
    "    #pesquisar cotação do dolar\n",
    "    #pegar cotação\n",
    "navegador.get(\"https://www.google.com/\")#passando url de entrada \n",
    "navegador.find_element_by_xpath('/html/body/div[1]/div[3]/form/div[1]/div[1]/div[1]/div/div[2]/input').send_keys(\"cotação dólar\") \n",
    "navegador.find_element_by_xpath('/html/body/div[1]/div[3]/form/div[1]/div[1]/div[3]/center/input[1]').send_keys(Keys.ENTER) #falta o build pat\n",
    "cotacao_dolar = navegador.find_element_by_xpath('//*[@id=\"knowledge-currency__updatable-data-column\"]/div[1]/div[2]/span[1]').get_attribute(\"data-value\")\n",
    "\n",
    "#passo 2 - pegar a cotação do euro \n",
    "navegador.get(\"https://www.google.com/\")#passando url de entrada \n",
    "navegador.find_element_by_xpath('/html/body/div[1]/div[3]/form/div[1]/div[1]/div[1]/div/div[2]/input').send_keys(\"cotação euro\") \n",
    "navegador.find_element_by_xpath('/html/body/div[1]/div[3]/form/div[1]/div[1]/div[3]/center/input[1]').send_keys(Keys.ENTER) #falta\n",
    "cotacao_euro = navegador.find_element_by_xpath('//*[@id=\"knowledge-currency__updatable-data-column\"]/div[1]/div[2]/span[1]').get_attribute(\"data-value\")\n",
    "\n",
    "#passo3 - pegar a cotação do ouro \n",
    "navegador.get(\"https://www.melhorcambio.com/ouro-hoje\")#passando url de entrada \n",
    "cotacao_ouro = navegador.find_element_by_xpath('//*[@id=\"comercial\"]').get_attribute(\"value\")\n",
    "cotacao_ouro = cotacao_ouro.replace(\",\",\".\")\n",
    "\n",
    " "
   ]
  },
  {
   "cell_type": "code",
   "execution_count": 38,
   "metadata": {},
   "outputs": [],
   "source": [
    "#passo 4 - importar a base de dados \n",
    "import pandas as pd\n",
    "tabela = pd.read_excel(\"Produtos.xlsx\")\n"
   ]
  },
  {
   "cell_type": "code",
   "execution_count": 39,
   "metadata": {},
   "outputs": [],
   "source": [
    "#passo 5 - atualizar as cotações, preço de compra e preço de venda \n",
    "\n",
    "#atualizar cotacao \n",
    "tabela.loc[tabela['Moeda'] == 'Dolar',\"Cotação\"] = float(cotacao_dolar)\n",
    "tabela.loc[tabela['Moeda'] == 'Euro',\"Cotação\"] = float(cotacao_euro)\n",
    "tabela.loc[tabela['Moeda'] == 'Ouro',\"Cotação\"] = float(cotacao_ouro)\n",
    "\n",
    "#preco de compra  preco original * cotacao \n",
    "tabela['Preço de Compra'] = tabela['Preço Base Original']*tabela['Cotação']\n",
    "\n",
    "# preco de venda preco de compra * margem \n",
    "tabela['Preço de Venda'] = tabela['Preço de Compra'] *tabela['Margem']\n",
    "\n",
    "#formatando casas decimais\n",
    "tabela['Preço de Venda'] = tabela['Preço de Venda'].map(\"R${:.2f}\".format)\n",
    "tabela['Preço de Compra'] = tabela['Preço de Compra'].map(\"R${:.2f}\".format)\n"
   ]
  },
  {
   "cell_type": "code",
   "execution_count": 40,
   "metadata": {},
   "outputs": [],
   "source": [
    "#passo 6 - exportar o relatorio atualizado\n",
    "tabela.to_excel(\"Produtos Novo.xlsx\",index=False)\n",
    "navegador.quit()"
   ]
  }
 ],
 "metadata": {
  "kernelspec": {
   "display_name": "Python 3",
   "language": "python",
   "name": "python3"
  },
  "language_info": {
   "codemirror_mode": {
    "name": "ipython",
    "version": 3
   },
   "file_extension": ".py",
   "mimetype": "text/x-python",
   "name": "python",
   "nbconvert_exporter": "python",
   "pygments_lexer": "ipython3",
   "version": "3.8.8"
  }
 },
 "nbformat": 4,
 "nbformat_minor": 4
}
